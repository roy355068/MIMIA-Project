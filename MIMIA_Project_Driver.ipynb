{
 "cells": [
  {
   "cell_type": "markdown",
   "metadata": {},
   "source": [
    "# MIMIA Final Project\n",
    "\n",
    "In this project, I will be working on lung CT scan images collected from Lung Nodule Analysis 2016 (LUNA 2016) competition.\n",
    "The purpose of this competition, I intend to implement a lung CT segmentation published in a reference paper. In addition to implementing the algorithm in the paper, I will also include and explore other techniques such as applying hole-filling technique to process the data for fully segmenting the lung.\n",
    "\n",
    "1. J. Heuberger, A. Geissbuhler, H. Muller, \"Lung CT segmentation for image retrieval\", Medical Imaging and Telemedicine, 2005. http://citeseerx.ist.psu.edu/viewdoc/download?doi=10.1.1.470.962&rep=rep1&type=pdf\n",
    "2. LUNA16 Competition. https://luna16.grand-challenge.org/download/"
   ]
  },
  {
   "cell_type": "code",
   "execution_count": 1,
   "metadata": {},
   "outputs": [],
   "source": [
    "import sys\n",
    "import time\n",
    "from LevelSetSegmentation import *\n",
    "from ConnectedThresholdSegmentation import *\n",
    "from NeighborhoodConnected import *\n",
    "import numpy as np\n",
    "import pandas as pd\n",
    "import matplotlib.pyplot as plt\n",
    "%matplotlib inline\n",
    "plt.style.use('ggplot')"
   ]
  },
  {
   "cell_type": "markdown",
   "metadata": {},
   "source": [
    "### Setup\n",
    "Setup the objects for different segmentation algorithms. Implementation detail could be found in the corresponding Python module file."
   ]
  },
  {
   "cell_type": "code",
   "execution_count": 8,
   "metadata": {},
   "outputs": [
    {
     "name": "stdout",
     "output_type": "stream",
     "text": [
      "[1, 3, 5]\n",
      "[1, 3, 5]\n"
     ]
    }
   ],
   "source": [
    "levelSet = LevelSetSegmentation([1,3,5])\n",
    "connectedThreshold = ConnectedThresholdSegmentation([1,3,5])\n",
    "print(levelSet.iters)\n",
    "print(connectedThreshold.iters)"
   ]
  },
  {
   "cell_type": "markdown",
   "metadata": {},
   "source": [
    "### Reference Paper Implementation\n",
    "Generate segmentation result using connected thresholding and the algorithms in the reference paper."
   ]
  },
  {
   "cell_type": "code",
   "execution_count": null,
   "metadata": {},
   "outputs": [],
   "source": [
    "tempImage = connectedThreshold.preprocess()\n",
    "connectIters = [1, 2, 3, 4, 5, 10]\n",
    "connectIterTimes = []\n",
    "for iteration in connectIters:\n",
    "    start = time.time()\n",
    "    connectedThreshold.run(tempImage, iteration)\n",
    "    end = time.time()\n",
    "    connectIterTimes.append(end - start)\n",
    "    print(\"%d iteration takes %d seconds\" % (iteration, end - start))"
   ]
  },
  {
   "cell_type": "markdown",
   "metadata": {},
   "source": [
    "Write the segmented images and the time it takes with different number of iterations to a file for further analysis."
   ]
  },
  {
   "cell_type": "code",
   "execution_count": null,
   "metadata": {},
   "outputs": [],
   "source": [
    "# with open(\"data.txt\", \"w\") as f:\n",
    "#     f.write(\"ConnectedThreshold\\n\")\n",
    "#     f.write(\",\".join(list(map(str, iterations))) + \"\\n\")\n",
    "#     f.write(\",\".join(list(map(str, iterTimes))) + \"\\n\")"
   ]
  },
  {
   "cell_type": "markdown",
   "metadata": {},
   "source": [
    "Generate the segmentation using level set segmentation"
   ]
  },
  {
   "cell_type": "code",
   "execution_count": null,
   "metadata": {},
   "outputs": [],
   "source": [
    "levelSetIters = [500, 800, 1000, 1200, 1500]\n",
    "levelSetTimes = []\n",
    "for iteration in levelSetIters:\n",
    "    start = time.time()\n",
    "    levelSet.run(iteration)\n",
    "    end = time.time()\n",
    "    levelSetTimes.append(end - start)\n",
    "    print(\"%d iteration takes %d seconds\" % (iteration, end - start))"
   ]
  },
  {
   "cell_type": "markdown",
   "metadata": {},
   "source": [
    "### Evaluate the Performance of Segmentation\n",
    "Read in the segmented images and use LabelOverlapMeasuresImageFilter to evaluate the performance of segmentation"
   ]
  },
  {
   "cell_type": "code",
   "execution_count": 3,
   "metadata": {},
   "outputs": [],
   "source": [
    "# Convert image into binary image\n",
    "def convert2Binary(path):\n",
    "    reader = sitk.ImageFileReader()\n",
    "    reader.SetFileName( path )\n",
    "    image = reader.Execute()\n",
    "\n",
    "    binaryFilter = sitk.BinaryThresholdImageFilter()\n",
    "    binaryFilter.SetUpperThreshold(0)\n",
    "    binaryFilter.SetInsideValue(0)\n",
    "    binaryFilter.SetOutsideValue(255)\n",
    "    image = binaryFilter.Execute(image)\n",
    "    return image\n",
    "# Evaluate the segmentation using \n",
    "def evaluate(refSeg, image):\n",
    "    # Set the origin in order to align the two comparing images\n",
    "    refSeg.SetOrigin(image.GetOrigin())\n",
    "    overlapMeasureFilter = sitk.LabelOverlapMeasuresImageFilter()\n",
    "    overlapMeasureFilter.Execute(refSeg, image)\n",
    "    results = (overlapMeasureFilter.GetJaccardCoefficient(), overlapMeasureFilter.GetDiceCoefficient())\n",
    "    print(fileName)\n",
    "    print(results)\n",
    "    print()\n",
    "    return results"
   ]
  },
  {
   "cell_type": "code",
   "execution_count": 5,
   "metadata": {},
   "outputs": [
    {
     "name": "stdout",
     "output_type": "stream",
     "text": [
      "1.mhd\n",
      "(0.8315639955109462, 0.9080370629135097)\n",
      "\n",
      "2.mhd\n",
      "(0.8410021256428483, 0.9136351489536536)\n",
      "\n",
      "3.mhd\n",
      "(0.8465970804302524, 0.9169266965731339)\n",
      "\n",
      "4.mhd\n",
      "(0.8502037678321495, 0.919037981236324)\n",
      "\n",
      "5.mhd\n",
      "(0.8526791457356355, 0.9204822623477696)\n",
      "\n"
     ]
    }
   ],
   "source": [
    "refSegPath = \"seg-lungs-LUNA16/1.3.6.1.4.1.14519.5.2.1.6279.6001.109002525524522225658609808059.mhd\"\n",
    "refSeg = convert2Binary(refSegPath)\n",
    "# sitk.Show(refSeg)\n",
    "\n",
    "directory = os.fsencode(\"ConnectedThreshold\")\n",
    "files = sorted(os.listdir(directory))\n",
    "Jaccards = []\n",
    "Dices = []\n",
    "for file in files:\n",
    "    fileName = os.fsdecode(file)\n",
    "    if fileName.endswith(\"mhd\"): \n",
    "        reader = sitk.ImageFileReader()\n",
    "        reader.SetFileName(str(directory, 'utf-8') + \"/\" + fileName)\n",
    "        image = reader.Execute()\n",
    "        overlapMeasure = evaluate(refSeg, image)\n",
    "        Jaccards.append(overlapMeasure[0])\n",
    "        Dices.append(overlapMeasure[1])\n",
    "        "
   ]
  },
  {
   "cell_type": "code",
   "execution_count": 7,
   "metadata": {},
   "outputs": [
    {
     "name": "stdout",
     "output_type": "stream",
     "text": [
      "   DiceCoefficient  JaccardCoefficient\n",
      "0         0.908037            0.831564\n",
      "1         0.913635            0.841002\n",
      "2         0.916927            0.846597\n",
      "3         0.919038            0.850204\n",
      "4         0.920482            0.852679\n"
     ]
    },
    {
     "ename": "NameError",
     "evalue": "name 'connectIterTimes' is not defined",
     "output_type": "error",
     "traceback": [
      "\u001b[0;31m---------------------------------------------------------------------------\u001b[0m",
      "\u001b[0;31mNameError\u001b[0m                                 Traceback (most recent call last)",
      "\u001b[0;32m<ipython-input-7-a5f225dd5b53>\u001b[0m in \u001b[0;36m<module>\u001b[0;34m()\u001b[0m\n\u001b[1;32m      1\u001b[0m \u001b[0mmeasureDF\u001b[0m \u001b[0;34m=\u001b[0m \u001b[0mpd\u001b[0m\u001b[0;34m.\u001b[0m\u001b[0mDataFrame\u001b[0m\u001b[0;34m(\u001b[0m\u001b[0mdata\u001b[0m \u001b[0;34m=\u001b[0m \u001b[0;34m{\u001b[0m\u001b[0;34m\"JaccardCoefficient\"\u001b[0m \u001b[0;34m:\u001b[0m \u001b[0mJaccards\u001b[0m\u001b[0;34m,\u001b[0m \u001b[0;34m\"DiceCoefficient\"\u001b[0m \u001b[0;34m:\u001b[0m \u001b[0mDices\u001b[0m\u001b[0;34m}\u001b[0m\u001b[0;34m)\u001b[0m\u001b[0;34m\u001b[0m\u001b[0m\n\u001b[1;32m      2\u001b[0m \u001b[0mprint\u001b[0m\u001b[0;34m(\u001b[0m\u001b[0mmeasureDF\u001b[0m\u001b[0;34m)\u001b[0m\u001b[0;34m\u001b[0m\u001b[0m\n\u001b[0;32m----> 3\u001b[0;31m \u001b[0mprint\u001b[0m\u001b[0;34m(\u001b[0m\u001b[0mconnectIterTimes\u001b[0m\u001b[0;34m)\u001b[0m\u001b[0;34m\u001b[0m\u001b[0m\n\u001b[0m\u001b[1;32m      4\u001b[0m \u001b[0mmeasureDF\u001b[0m\u001b[0;34m.\u001b[0m\u001b[0mplot\u001b[0m\u001b[0;34m(\u001b[0m\u001b[0;34m)\u001b[0m\u001b[0;34m\u001b[0m\u001b[0m\n",
      "\u001b[0;31mNameError\u001b[0m: name 'connectIterTimes' is not defined"
     ]
    }
   ],
   "source": [
    "measureDF = pd.DataFrame(data = {\"JaccardCoefficient\" : Jaccards, \"DiceCoefficient\" : Dices})\n",
    "print(measureDF)\n",
    "measureDF.plot()"
   ]
  },
  {
   "cell_type": "markdown",
   "metadata": {},
   "source": [
    "### Grid Search for the Optimal Parameters\n",
    "In this section, I'll be performing grid search, a common technique to find the optimal parameters for models, to find the parameters for the optimal algorithms I found in the cells above."
   ]
  },
  {
   "cell_type": "markdown",
   "metadata": {},
   "source": [
    "### Apply the Optimal Parameters\n",
    "In this section, I will apply the optimal parameters to the remaining images in the dataset and report the performance of the segmentation. (Automatic seeds identification?)"
   ]
  },
  {
   "cell_type": "code",
   "execution_count": null,
   "metadata": {},
   "outputs": [],
   "source": []
  }
 ],
 "metadata": {
  "kernelspec": {
   "display_name": "Python 3",
   "language": "python",
   "name": "python3"
  },
  "language_info": {
   "codemirror_mode": {
    "name": "ipython",
    "version": 3
   },
   "file_extension": ".py",
   "mimetype": "text/x-python",
   "name": "python",
   "nbconvert_exporter": "python",
   "pygments_lexer": "ipython3",
   "version": "3.6.4"
  }
 },
 "nbformat": 4,
 "nbformat_minor": 2
}
